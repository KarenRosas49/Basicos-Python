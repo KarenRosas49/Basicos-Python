{
 "cells": [
  {
   "cell_type": "code",
   "execution_count": 1,
   "metadata": {},
   "outputs": [
    {
     "name": "stdout",
     "output_type": "stream",
     "text": [
      "Es realmente un número y positivo\n"
     ]
    }
   ],
   "source": [
    "# Solicita un número\n",
    "num = float(input(\"Ingresa un número: \"))\n",
    "\n",
    "#Condición uno\n",
    "if num > 0:\n",
    "    adjective = \" \"\n",
    "    if num >= 1000000:\n",
    "        adjective = \" muy grande \"\n",
    "    elif num >= 1000:\n",
    "        adjective = \" grande \"\n",
    "\n",
    "    # El resultado es una cadena con el adjetivo y el tipo de número\n",
    "    result = \"Es realmente un número\" + adjective + \"y positivo\"\n",
    "elif num < 0:\n",
    "    result = \"Es un número negativo\"\n",
    "else:\n",
    "    result = \"Este número es cero\"\n",
    "\n",
    "# Imprime el resultado\n",
    "print(result)\n"
   ]
  }
 ],
 "metadata": {
  "kernelspec": {
   "display_name": "Python 3.9.12 ('base')",
   "language": "python",
   "name": "python3"
  },
  "language_info": {
   "codemirror_mode": {
    "name": "ipython",
    "version": 3
   },
   "file_extension": ".py",
   "mimetype": "text/x-python",
   "name": "python",
   "nbconvert_exporter": "python",
   "pygments_lexer": "ipython3",
   "version": "3.9.12"
  },
  "orig_nbformat": 4,
  "vscode": {
   "interpreter": {
    "hash": "98af07ca5abd0a7dd50c421f1342d8d60fc5add2afb26baefedf8a838de0d516"
   }
  }
 },
 "nbformat": 4,
 "nbformat_minor": 2
}
