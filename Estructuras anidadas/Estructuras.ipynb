{
 "cells": [
  {
   "cell_type": "code",
   "execution_count": null,
   "metadata": {},
   "outputs": [],
   "source": [
    "# Solicita un número\n",
    "num = float(input(\"Ingresa un número: \"))\n",
    "\n",
    "#Condición uno\n",
    "if num > 0:\n",
    "    adjective = \" \"\n",
    "    if num >= 1000000:\n",
    "        adjective = \" muy grande \"\n",
    "    elif num >= 1000:\n",
    "        adjective = \" grande \"\n",
    "\n",
    "    # El resultado es una cadena con el adjetivo y el tipo de número\n",
    "    result = \"Es realmente un número\" + adjective + \"y positivo\"\n",
    "elif num < 0:\n",
    "    result = \"Es un número negativo\"\n",
    "else:\n",
    "    result = \"Este número es cero\"\n",
    "\n",
    "# Imprime el resultado\n",
    "print(result)\n"
   ]
  }
 ],
 "metadata": {
  "language_info": {
   "name": "python"
  },
  "orig_nbformat": 4
 },
 "nbformat": 4,
 "nbformat_minor": 2
}
