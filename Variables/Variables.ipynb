{
 "cells": [
  {
   "cell_type": "code",
   "execution_count": 1,
   "metadata": {},
   "outputs": [
    {
     "name": "stdout",
     "output_type": "stream",
     "text": [
      "El valor de x es: 73\n",
      "El valor de y es: 147\n",
      "Tu color favorito es  morado , tienes 21  años y pesas  45.0  kg\n"
     ]
    }
   ],
   "source": [
    "x = 73\n",
    "y = 1 + x * 2 #Variable con una operación matemática\n",
    "z = (\"hola a todos\") #Variable de caracteres\n",
    "w = input (\"ingresa tu color favorito\") #Variable de ingreso de caracteres\n",
    "edad = int (input(\"Ingresa tu edad\")) #Variable de ingreso numérico entero\n",
    "peso = float (input(\"¿Cuánto pesas?\")) #Variable de ingreso de tipo decimal\n",
    "\n",
    "#Para imprimir los datos\n",
    "print(\"El valor de x es:\", x)\n",
    "print(\"El valor de y es:\", y)\n",
    "print(\"Tu color favorito es \",w, \", tienes\",edad, \" años y pesas \",peso, \" kg\")"
   ]
  }
 ],
 "metadata": {
  "kernelspec": {
   "display_name": "Python 3.9.12 ('base')",
   "language": "python",
   "name": "python3"
  },
  "language_info": {
   "codemirror_mode": {
    "name": "ipython",
    "version": 3
   },
   "file_extension": ".py",
   "mimetype": "text/x-python",
   "name": "python",
   "nbconvert_exporter": "python",
   "pygments_lexer": "ipython3",
   "version": "3.9.12"
  },
  "orig_nbformat": 4,
  "vscode": {
   "interpreter": {
    "hash": "98af07ca5abd0a7dd50c421f1342d8d60fc5add2afb26baefedf8a838de0d516"
   }
  }
 },
 "nbformat": 4,
 "nbformat_minor": 2
}
