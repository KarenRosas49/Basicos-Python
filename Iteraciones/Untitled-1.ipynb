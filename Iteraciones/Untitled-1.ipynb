{
 "cells": [
  {
   "cell_type": "code",
   "execution_count": null,
   "metadata": {},
   "outputs": [],
   "source": [
    "line = input(\"Ingresa 8 bits (ceros y unos)\")\n",
    "# Inicia el bucle hasta encontrar un espacio en blanco\n",
    "while line != \"\":\n",
    "    # Condición que asegura que tiene exactamente 8 ceros y unos\n",
    "    if line.count(\"0\") + line.count"
   ]
  }
 ],
 "metadata": {
  "language_info": {
   "name": "python"
  },
  "orig_nbformat": 4
 },
 "nbformat": 4,
 "nbformat_minor": 2
}
